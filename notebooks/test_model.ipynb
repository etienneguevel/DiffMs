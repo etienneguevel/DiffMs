{
 "cells": [
  {
   "cell_type": "code",
   "execution_count": 1,
   "id": "99ba6220",
   "metadata": {},
   "outputs": [],
   "source": [
    "%load_ext autoreload\n",
    "%autoreload 2"
   ]
  },
  {
   "cell_type": "code",
   "execution_count": 2,
   "id": "a6d540c4",
   "metadata": {},
   "outputs": [
    {
     "name": "stdout",
     "output_type": "stream",
     "text": [
      "/home/guevel/projects/annotix_all/DiffMS/.venv/bin/python\n"
     ]
    }
   ],
   "source": [
    "import sys\n",
    "\n",
    "print(sys.executable)"
   ]
  },
  {
   "cell_type": "code",
   "execution_count": 20,
   "id": "00f29da4",
   "metadata": {},
   "outputs": [],
   "source": [
    "import torch\n",
    "from diffms import ROOT\n",
    "\n",
    "model_path = ROOT / \"models\" / \"checkpoints\"\n",
    "diffms_dict = torch.load(model_path / \"diffms_msg.ckpt\")"
   ]
  },
  {
   "cell_type": "code",
   "execution_count": 9,
   "id": "db5ea506",
   "metadata": {},
   "outputs": [
    {
     "data": {
      "text/plain": [
       "{'decoder': 304, 'encoder': 59}"
      ]
     },
     "execution_count": 9,
     "metadata": {},
     "output_type": "execute_result"
    }
   ],
   "source": [
    "{t: len([k for k in diffms_dict[\"state_dict\"].keys() if t in k]) for t in [\"decoder\", \"encoder\"]}"
   ]
  },
  {
   "cell_type": "code",
   "execution_count": 12,
   "id": "03511b21",
   "metadata": {},
   "outputs": [
    {
     "data": {
      "text/plain": [
       "305"
      ]
     },
     "execution_count": 12,
     "metadata": {},
     "output_type": "execute_result"
    }
   ],
   "source": [
    "decoder_dict = torch.load(model_path / \"decoder.ckpt\")\n",
    "len(decoder_dict[\"state_dict\"].keys())"
   ]
  },
  {
   "cell_type": "code",
   "execution_count": 17,
   "id": "1646e7ac",
   "metadata": {},
   "outputs": [
    {
     "data": {
      "text/plain": [
       "59"
      ]
     },
     "execution_count": 17,
     "metadata": {},
     "output_type": "execute_result"
    }
   ],
   "source": [
    "encoder_dict = torch.load(model_path / \"encoder_msg.pt\")\n",
    "len(encoder_dict)"
   ]
  },
  {
   "cell_type": "code",
   "execution_count": 21,
   "id": "91a406f7",
   "metadata": {},
   "outputs": [],
   "source": [
    "from omegaconf import DictConfig, OmegaConf\n",
    "from hydra import compose, initialize\n",
    "from hydra.core.global_hydra import GlobalHydra\n",
    "\n",
    "GlobalHydra.instance().clear()\n",
    "\n",
    "# Initialize once at the beginning of your notebook\n",
    "initialize(config_path=\"../configs\", version_base=\"1.3\")\n",
    "\n",
    "# Compose the config (same as Hydra would do on CLI)\n",
    "cfg: DictConfig = compose(config_name=\"config\")"
   ]
  },
  {
   "cell_type": "code",
   "execution_count": 7,
   "id": "e42dc397",
   "metadata": {},
   "outputs": [
    {
     "name": "stderr",
     "output_type": "stream",
     "text": [
      "231104it [00:01, 151456.63it/s]\n",
      "231104it [00:47, 4894.16it/s]\n",
      "231104it [00:00, 3496587.29it/s]\n"
     ]
    }
   ],
   "source": [
    "from diffms import ROOT\n",
    "from diffms.mist.data import splitter, datasets\n",
    "\n",
    "data_splitter = splitter.PresetSpectraSplitter(\n",
    "    split_file = ROOT / cfg.dataset.split_file\n",
    ")\n",
    "\n",
    "spectra_mol_pairs = datasets.get_paired_spectra(**cfg.dataset)\n",
    "spectra_mol_pairs = list(zip(*spectra_mol_pairs))"
   ]
  },
  {
   "cell_type": "code",
   "execution_count": 8,
   "id": "147c6428",
   "metadata": {},
   "outputs": [],
   "source": [
    "split_file, (train, val, test) = data_splitter.get_splits(spectra_mol_pairs)"
   ]
  },
  {
   "cell_type": "code",
   "execution_count": null,
   "id": "9c3d7d1f",
   "metadata": {},
   "outputs": [
    {
     "name": "stdout",
     "output_type": "stream",
     "text": [
      "C11H19NO9\n"
     ]
    },
    {
     "data": {
      "text/plain": [
       "('ms2peaks',)"
      ]
     },
     "execution_count": 19,
     "metadata": {},
     "output_type": "execute_result"
    }
   ],
   "source": [
    "spectra = train[0][0]\n",
    "# Brut formula\n",
    "print(spectra.get_spectra_formula())\n",
    "\n",
    "# List of intensity and m/Z peaks ?\n",
    "spectra.get_spec()\n",
    "\n",
    "# \n",
    "spectra.spectrum_nam"
   ]
  },
  {
   "cell_type": "code",
   "execution_count": 22,
   "id": "4a13f3d8",
   "metadata": {},
   "outputs": [
    {
     "name": "stdout",
     "output_type": "stream",
     "text": [
      "Creating datamodule\n"
     ]
    },
    {
     "name": "stderr",
     "output_type": "stream",
     "text": [
      "231104it [00:01, 138784.09it/s]\n",
      "231104it [00:46, 5004.94it/s]\n",
      "231104it [00:00, 3615990.27it/s]\n"
     ]
    },
    {
     "name": "stdout",
     "output_type": "stream",
     "text": [
      "Getting dataste infos\n",
      "Making domain features\n",
      "Making extra features\n",
      "Compute input/output dims\n",
      "Training metrics.\n",
      "Get viz tools.\n"
     ]
    }
   ],
   "source": [
    "import logging\n",
    "\n",
    "from rdkit import RDLogger\n",
    "\n",
    "from diffms.analysis.visualization import MolecularVisualization\n",
    "from diffms.datasets import spec2mol_dataset\n",
    "from diffms.diffusion.extra_features import DummyExtraFeatures, ExtraFeatures\n",
    "from diffms.metrics.molecular_metrics_discrete import TrainMolecularMetricsDiscrete\n",
    "from diffms.diffusion.extra_features_molecular import ExtraMolecularFeatures\n",
    "\n",
    "\n",
    "# Temporarily silence all but WARNING level\n",
    "RDLogger.DisableLog('rdApp.warning')\n",
    "\n",
    "dataset_config = cfg[\"dataset\"]\n",
    "\n",
    "if dataset_config[\"name\"] not in (\"canopus\", \"msg\"):\n",
    "    raise NotImplementedError(\"Unknown dataset {}\".format(cfg[\"dataset\"]))\n",
    "\n",
    "print('Creating datamodule')\n",
    "datamodule = spec2mol_dataset.Spec2MolDataModule(cfg) # TODO: Add hyper for n_bits\n",
    "\n",
    "print('Getting dataste infos')\n",
    "dataset_infos = spec2mol_dataset.Spec2MolDatasetInfos(datamodule, cfg)\n",
    "\n",
    "print('Making domain features')\n",
    "domain_features = ExtraMolecularFeatures(dataset_infos=dataset_infos)\n",
    "\n",
    "print('Making extra features')\n",
    "if cfg.model.extra_features is not None:\n",
    "    extra_features = ExtraFeatures(cfg.model.extra_features, dataset_info=dataset_infos)\n",
    "else:\n",
    "    extra_features = DummyExtraFeatures()\n",
    "\n",
    "print('Compute input/output dims')\n",
    "dataset_infos.compute_input_output_dims(datamodule=datamodule, extra_features=extra_features, domain_features=domain_features)\n",
    "\n",
    "logging.info(\"Dataset infos:\", dataset_infos.output_dims)\n",
    "\n",
    "print('Training metrics.')\n",
    "train_metrics = TrainMolecularMetricsDiscrete(dataset_infos)\n",
    "\n",
    "# We do not evaluate novelty during training\n",
    "print('Get viz tools.')\n",
    "visualization_tools = MolecularVisualization(cfg.dataset.remove_h, dataset_infos=dataset_infos)\n",
    "\n",
    "model_kwargs = {\n",
    "    'dataset_infos': dataset_infos,\n",
    "    'train_metrics': train_metrics,\n",
    "    'visualization_tools': visualization_tools,\n",
    "    'extra_features': extra_features, \n",
    "    'domain_features': domain_features,\n",
    "}"
   ]
  },
  {
   "cell_type": "code",
   "execution_count": 31,
   "id": "e443e0a2",
   "metadata": {},
   "outputs": [],
   "source": [
    "import os\n",
    "from diffms import ROOT\n",
    "from diffms.diffusion_model_spec2mol import Spec2MolDenoisingDiffusion\n",
    "from diffms.spec2mol_main import load_weights\n",
    "\n",
    "model = Spec2MolDenoisingDiffusion(cfg=cfg, **model_kwargs)\n",
    "\n",
    "weight_path = ROOT / cfg.general.encoder\n",
    "if not os.path.isfile:\n",
    "    raise ValueError(f\"The path indicated does not exist {weight_path}\")\n",
    "\n",
    "logging.info(f\"Loading weights from {weight_path}\")\n",
    "model = load_weights(model, weight_path)"
   ]
  },
  {
   "cell_type": "code",
   "execution_count": 12,
   "id": "b4987fb9",
   "metadata": {},
   "outputs": [],
   "source": [
    "import torch\n",
    "\n",
    "# Setup the device\n",
    "device = torch.device(\"cuda:2\")\n",
    "\n",
    "dataloader = datamodule.test_dataloader()\n",
    "\n",
    "for b in dataloader:\n",
    "    b = {\n",
    "        k: v.to(device) if isinstance(v, torch.Tensor) else v\n",
    "        for k, v in b.items()\n",
    "    }\n",
    "    break"
   ]
  },
  {
   "cell_type": "code",
   "execution_count": 33,
   "id": "ddfa794c",
   "metadata": {},
   "outputs": [
    {
     "data": {
      "text/plain": [
       "DataBatch(x=[4900, 8], edge_index=[2, 10654], edge_attr=[10654, 5], y=[128, 2048], inchi=[128], batch=[4900], ptr=[129])"
      ]
     },
     "execution_count": 33,
     "metadata": {},
     "output_type": "execute_result"
    }
   ],
   "source": [
    "b[\"graph\"]"
   ]
  },
  {
   "cell_type": "code",
   "execution_count": 13,
   "id": "c1451c8e",
   "metadata": {},
   "outputs": [],
   "source": [
    "model.to(device)\n",
    "\n",
    "with torch.no_grad():\n",
    "    output, aux = model.encoder(b)"
   ]
  },
  {
   "cell_type": "code",
   "execution_count": 14,
   "id": "7eec5753",
   "metadata": {},
   "outputs": [],
   "source": [
    "merge = getattr(cfg.dataset, 'merge', 'none')\n",
    "\n",
    "data = b[\"graph\"]\n",
    "if model.merge == 'mist_fp':\n",
    "    data.y = aux[\"int_preds\"][-1]\n",
    "if model.merge == 'merge-encoder_output-linear':\n",
    "    encoder_output = aux['h0']\n",
    "    data.y = model.merge_function(encoder_output)\n",
    "elif model.merge == 'merge-encoder_output-mlp':\n",
    "    encoder_output = aux['h0']\n",
    "    data.y = model.merge_function(encoder_output)\n",
    "elif model.merge == 'downproject_4096':\n",
    "    data.y = model.merge_function(output)"
   ]
  },
  {
   "cell_type": "code",
   "execution_count": 16,
   "id": "9b31d8d2",
   "metadata": {},
   "outputs": [],
   "source": [
    "def move_data_to_device(data, device):\n",
    "    for attr in vars(data)[\"_store\"]:\n",
    "        if isinstance(x := getattr(data, attr), torch.Tensor):\n",
    "            setattr(data, attr, x.to(device))\n",
    "    \n",
    "    return data"
   ]
  },
  {
   "cell_type": "code",
   "execution_count": null,
   "id": "28f7a507",
   "metadata": {},
   "outputs": [],
   "source": [
    "from rdkit import Chem\n",
    "\n",
    "data = move_data_to_device(data, device)\n",
    "\n",
    "true_mols = [Chem.inchi.MolFromInchi(data.get_example(idx).inchi) for idx in range(len(data))] # Is this correct?\n",
    "predicted_mols = [list() for _ in range(len(data))]\n",
    "\n",
    "for idx, mol in enumerate(model.sample_batch(data)):\n",
    "    predicted_mols[idx].append(mol)"
   ]
  },
  {
   "cell_type": "code",
   "execution_count": null,
   "id": "9b9e79e4",
   "metadata": {},
   "outputs": [
    {
     "data": {
      "image/png": "[encoded data removed]",
      "text/plain": [
       "<Figure size 1000x2000 with 2 Axes>"
      ]
     },
     "metadata": {},
     "output_type": "display_data"
    }
   ],
   "source": [
    "import random\n",
    "\n",
    "import matplotlib.pyplot as plt\n",
    "from rdkit.Chem import Draw\n",
    "\n",
    "idx = random.choice(range(len(data)))\n",
    "\n",
    "tm = true_mols[idx]\n",
    "pm = predicted_mols[idx][0]\n",
    "\n",
    "tm_img = Draw.MolToImage(tm)\n",
    "pm_img = Draw.MolToImage(pm)\n",
    "\n",
    "fig, ax = plt.subplots(1, 2, figsize=(10, 20))\n",
    "\n",
    "ax[0].imshow(tm_img)\n",
    "ax[0].set_title(f\"True mol {idx}\")\n",
    "\n",
    "ax[1].imshow(pm_img)\n",
    "ax[1].set_title(f\"Pred mol {idx}\")\n",
    "\n",
    "plt.show()\n"
   ]
  }
 ],
 "metadata": {
  "kernelspec": {
   "display_name": "diffms",
   "language": "python",
   "name": "python3"
  },
  "language_info": {
   "codemirror_mode": {
    "name": "ipython",
    "version": 3
   },
   "file_extension": ".py",
   "mimetype": "text/x-python",
   "name": "python",
   "nbconvert_exporter": "python",
   "pygments_lexer": "ipython3",
   "version": "3.9.22"
  }
 },
 "nbformat": 4,
 "nbformat_minor": 5
}
